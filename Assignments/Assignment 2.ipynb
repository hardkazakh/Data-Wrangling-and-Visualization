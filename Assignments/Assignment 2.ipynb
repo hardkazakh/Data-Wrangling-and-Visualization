{
 "cells": [
  {
   "cell_type": "markdown",
   "metadata": {
    "id": "g7OYF9_wsanS"
   },
   "source": [
    "# <center>Assignment 2\n",
    "Deadline 7.02.2021 23:59"
   ]
  },
  {
   "cell_type": "markdown",
   "metadata": {
    "id": "IrI329cesan0"
   },
   "source": [
    "Name:\n",
    "ID:\n"
   ]
  },
  {
   "cell_type": "markdown",
   "metadata": {
    "id": "q_ZbEn1fsan6"
   },
   "source": [
    "# Part 1"
   ]
  },
  {
   "cell_type": "markdown",
   "metadata": {
    "id": "Cu9RMb3Vsan7"
   },
   "source": [
    "**In part 1 you need to work with data from the about 120 years of Olympic history by pandas. Write code and perform computations in the cells below. There are five questions.** "
   ]
  },
  {
   "cell_type": "markdown",
   "metadata": {
    "id": "szyeNfjbsan9"
   },
   "source": [
    "Download the file `athlete_events.csv` from [here](https://drive.google.com/file/d/1f5v6Z2ayc7h698FG_98wP5x1Y2zZQeox/view?usp=sharing). The dataset has the following features:\n",
    "\n",
    "- __ID__ - Unique number for each athlete\n",
    "- __Name__ - Athlete's name\n",
    "- __Sex__ - M or F\n",
    "- __Age__ - Integer\n",
    "- __Height__ - In centimeters\n",
    "- __Weight__ - In kilograms\n",
    "- __Team__ - Team name\n",
    "- __NOC__ - National Olympic Committee 3-letter code\n",
    "- __Games__ - Year and season\n",
    "- __Year__ - Integer\n",
    "- __Season__ - Summer or Winter\n",
    "- __City__ - Host city\n",
    "- __Sport__ - Sport\n",
    "- __Event__ - Event\n",
    "- __Medal__ - Gold, Silver, Bronze, or NA"
   ]
  },
  {
   "cell_type": "code",
   "execution_count": 1,
   "metadata": {
    "id": "SP2fHcqtsan_"
   },
   "outputs": [],
   "source": [
    "import pandas as pd"
   ]
  },
  {
   "cell_type": "code",
   "execution_count": 2,
   "metadata": {
    "id": "opK5Mn88saoB"
   },
   "outputs": [],
   "source": [
    "PATH = 'athlete_events.csv'"
   ]
  },
  {
   "cell_type": "code",
   "execution_count": 3,
   "metadata": {
    "id": "IKP_lzm5saoC",
    "outputId": "c99a1581-d52f-466a-a070-c007acfc37a9"
   },
   "outputs": [
    {
     "data": {
      "text/html": [
       "<div>\n",
       "<style scoped>\n",
       "    .dataframe tbody tr th:only-of-type {\n",
       "        vertical-align: middle;\n",
       "    }\n",
       "\n",
       "    .dataframe tbody tr th {\n",
       "        vertical-align: top;\n",
       "    }\n",
       "\n",
       "    .dataframe thead th {\n",
       "        text-align: right;\n",
       "    }\n",
       "</style>\n",
       "<table border=\"1\" class=\"dataframe\">\n",
       "  <thead>\n",
       "    <tr style=\"text-align: right;\">\n",
       "      <th></th>\n",
       "      <th>ID</th>\n",
       "      <th>Name</th>\n",
       "      <th>Sex</th>\n",
       "      <th>Age</th>\n",
       "      <th>Height</th>\n",
       "      <th>Weight</th>\n",
       "      <th>Team</th>\n",
       "      <th>NOC</th>\n",
       "      <th>Games</th>\n",
       "      <th>Year</th>\n",
       "      <th>Season</th>\n",
       "      <th>City</th>\n",
       "      <th>Sport</th>\n",
       "      <th>Event</th>\n",
       "      <th>Medal</th>\n",
       "    </tr>\n",
       "  </thead>\n",
       "  <tbody>\n",
       "    <tr>\n",
       "      <th>0</th>\n",
       "      <td>1</td>\n",
       "      <td>A Dijiang</td>\n",
       "      <td>M</td>\n",
       "      <td>24.0</td>\n",
       "      <td>180.0</td>\n",
       "      <td>80.0</td>\n",
       "      <td>China</td>\n",
       "      <td>CHN</td>\n",
       "      <td>1992 Summer</td>\n",
       "      <td>1992</td>\n",
       "      <td>Summer</td>\n",
       "      <td>Barcelona</td>\n",
       "      <td>Basketball</td>\n",
       "      <td>Basketball Men's Basketball</td>\n",
       "      <td>NaN</td>\n",
       "    </tr>\n",
       "    <tr>\n",
       "      <th>1</th>\n",
       "      <td>2</td>\n",
       "      <td>A Lamusi</td>\n",
       "      <td>M</td>\n",
       "      <td>23.0</td>\n",
       "      <td>170.0</td>\n",
       "      <td>60.0</td>\n",
       "      <td>China</td>\n",
       "      <td>CHN</td>\n",
       "      <td>2012 Summer</td>\n",
       "      <td>2012</td>\n",
       "      <td>Summer</td>\n",
       "      <td>London</td>\n",
       "      <td>Judo</td>\n",
       "      <td>Judo Men's Extra-Lightweight</td>\n",
       "      <td>NaN</td>\n",
       "    </tr>\n",
       "    <tr>\n",
       "      <th>2</th>\n",
       "      <td>3</td>\n",
       "      <td>Gunnar Nielsen Aaby</td>\n",
       "      <td>M</td>\n",
       "      <td>24.0</td>\n",
       "      <td>NaN</td>\n",
       "      <td>NaN</td>\n",
       "      <td>Denmark</td>\n",
       "      <td>DEN</td>\n",
       "      <td>1920 Summer</td>\n",
       "      <td>1920</td>\n",
       "      <td>Summer</td>\n",
       "      <td>Antwerpen</td>\n",
       "      <td>Football</td>\n",
       "      <td>Football Men's Football</td>\n",
       "      <td>NaN</td>\n",
       "    </tr>\n",
       "    <tr>\n",
       "      <th>3</th>\n",
       "      <td>4</td>\n",
       "      <td>Edgar Lindenau Aabye</td>\n",
       "      <td>M</td>\n",
       "      <td>34.0</td>\n",
       "      <td>NaN</td>\n",
       "      <td>NaN</td>\n",
       "      <td>Denmark/Sweden</td>\n",
       "      <td>DEN</td>\n",
       "      <td>1900 Summer</td>\n",
       "      <td>1900</td>\n",
       "      <td>Summer</td>\n",
       "      <td>Paris</td>\n",
       "      <td>Tug-Of-War</td>\n",
       "      <td>Tug-Of-War Men's Tug-Of-War</td>\n",
       "      <td>Gold</td>\n",
       "    </tr>\n",
       "    <tr>\n",
       "      <th>4</th>\n",
       "      <td>5</td>\n",
       "      <td>Christine Jacoba Aaftink</td>\n",
       "      <td>F</td>\n",
       "      <td>21.0</td>\n",
       "      <td>185.0</td>\n",
       "      <td>82.0</td>\n",
       "      <td>Netherlands</td>\n",
       "      <td>NED</td>\n",
       "      <td>1988 Winter</td>\n",
       "      <td>1988</td>\n",
       "      <td>Winter</td>\n",
       "      <td>Calgary</td>\n",
       "      <td>Speed Skating</td>\n",
       "      <td>Speed Skating Women's 500 metres</td>\n",
       "      <td>NaN</td>\n",
       "    </tr>\n",
       "  </tbody>\n",
       "</table>\n",
       "</div>"
      ],
      "text/plain": [
       "   ID                      Name Sex   Age  Height  Weight            Team  \\\n",
       "0   1                 A Dijiang   M  24.0   180.0    80.0           China   \n",
       "1   2                  A Lamusi   M  23.0   170.0    60.0           China   \n",
       "2   3       Gunnar Nielsen Aaby   M  24.0     NaN     NaN         Denmark   \n",
       "3   4      Edgar Lindenau Aabye   M  34.0     NaN     NaN  Denmark/Sweden   \n",
       "4   5  Christine Jacoba Aaftink   F  21.0   185.0    82.0     Netherlands   \n",
       "\n",
       "   NOC        Games  Year  Season       City          Sport  \\\n",
       "0  CHN  1992 Summer  1992  Summer  Barcelona     Basketball   \n",
       "1  CHN  2012 Summer  2012  Summer     London           Judo   \n",
       "2  DEN  1920 Summer  1920  Summer  Antwerpen       Football   \n",
       "3  DEN  1900 Summer  1900  Summer      Paris     Tug-Of-War   \n",
       "4  NED  1988 Winter  1988  Winter    Calgary  Speed Skating   \n",
       "\n",
       "                              Event Medal  \n",
       "0       Basketball Men's Basketball   NaN  \n",
       "1      Judo Men's Extra-Lightweight   NaN  \n",
       "2           Football Men's Football   NaN  \n",
       "3       Tug-Of-War Men's Tug-Of-War  Gold  \n",
       "4  Speed Skating Women's 500 metres   NaN  "
      ]
     },
     "execution_count": 3,
     "metadata": {},
     "output_type": "execute_result"
    }
   ],
   "source": [
    "data = pd.read_csv(PATH)\n",
    "data.head()"
   ]
  },
  {
   "cell_type": "markdown",
   "metadata": {
    "id": "qauKYegUsaoH"
   },
   "source": [
    "__1. How old were the oldest male and female participants of the 2012 Olympics?__"
   ]
  },
  {
   "cell_type": "code",
   "execution_count": 4,
   "metadata": {
    "id": "zSk5w17VsaoJ"
   },
   "outputs": [
    {
     "data": {
      "text/html": [
       "<div>\n",
       "<style scoped>\n",
       "    .dataframe tbody tr th:only-of-type {\n",
       "        vertical-align: middle;\n",
       "    }\n",
       "\n",
       "    .dataframe tbody tr th {\n",
       "        vertical-align: top;\n",
       "    }\n",
       "\n",
       "    .dataframe thead th {\n",
       "        text-align: right;\n",
       "    }\n",
       "</style>\n",
       "<table border=\"1\" class=\"dataframe\">\n",
       "  <thead>\n",
       "    <tr style=\"text-align: right;\">\n",
       "      <th></th>\n",
       "      <th>ID</th>\n",
       "      <th>Name</th>\n",
       "      <th>Sex</th>\n",
       "      <th>Age</th>\n",
       "      <th>Height</th>\n",
       "      <th>Weight</th>\n",
       "      <th>Team</th>\n",
       "      <th>NOC</th>\n",
       "      <th>Games</th>\n",
       "      <th>Year</th>\n",
       "      <th>Season</th>\n",
       "      <th>City</th>\n",
       "      <th>Sport</th>\n",
       "      <th>Event</th>\n",
       "      <th>Medal</th>\n",
       "    </tr>\n",
       "  </thead>\n",
       "  <tbody>\n",
       "    <tr>\n",
       "      <th>257054</th>\n",
       "      <td>128719</td>\n",
       "      <td>John Quincy Adams Ward</td>\n",
       "      <td>M</td>\n",
       "      <td>97.0</td>\n",
       "      <td>NaN</td>\n",
       "      <td>NaN</td>\n",
       "      <td>United States</td>\n",
       "      <td>USA</td>\n",
       "      <td>1928 Summer</td>\n",
       "      <td>1928</td>\n",
       "      <td>Summer</td>\n",
       "      <td>Amsterdam</td>\n",
       "      <td>Art Competitions</td>\n",
       "      <td>Art Competitions Mixed Sculpturing, Statues</td>\n",
       "      <td>NaN</td>\n",
       "    </tr>\n",
       "  </tbody>\n",
       "</table>\n",
       "</div>"
      ],
      "text/plain": [
       "            ID                    Name Sex   Age  Height  Weight  \\\n",
       "257054  128719  John Quincy Adams Ward   M  97.0     NaN     NaN   \n",
       "\n",
       "                 Team  NOC        Games  Year  Season       City  \\\n",
       "257054  United States  USA  1928 Summer  1928  Summer  Amsterdam   \n",
       "\n",
       "                   Sport                                        Event Medal  \n",
       "257054  Art Competitions  Art Competitions Mixed Sculpturing, Statues   NaN  "
      ]
     },
     "execution_count": 4,
     "metadata": {},
     "output_type": "execute_result"
    }
   ],
   "source": [
    "a1 = data.sort_values(by=['Age', 'Sex'], ascending=[False, True])\n",
    "a1.head(1)"
   ]
  },
  {
   "cell_type": "code",
   "execution_count": 5,
   "metadata": {},
   "outputs": [
    {
     "data": {
      "text/html": [
       "<div>\n",
       "<style scoped>\n",
       "    .dataframe tbody tr th:only-of-type {\n",
       "        vertical-align: middle;\n",
       "    }\n",
       "\n",
       "    .dataframe tbody tr th {\n",
       "        vertical-align: top;\n",
       "    }\n",
       "\n",
       "    .dataframe thead th {\n",
       "        text-align: right;\n",
       "    }\n",
       "</style>\n",
       "<table border=\"1\" class=\"dataframe\">\n",
       "  <thead>\n",
       "    <tr style=\"text-align: right;\">\n",
       "      <th></th>\n",
       "      <th>ID</th>\n",
       "      <th>Name</th>\n",
       "      <th>Sex</th>\n",
       "      <th>Age</th>\n",
       "      <th>Height</th>\n",
       "      <th>Weight</th>\n",
       "      <th>Team</th>\n",
       "      <th>NOC</th>\n",
       "      <th>Games</th>\n",
       "      <th>Year</th>\n",
       "      <th>Season</th>\n",
       "      <th>City</th>\n",
       "      <th>Sport</th>\n",
       "      <th>Event</th>\n",
       "      <th>Medal</th>\n",
       "    </tr>\n",
       "  </thead>\n",
       "  <tbody>\n",
       "    <tr>\n",
       "      <th>201631</th>\n",
       "      <td>101272</td>\n",
       "      <td>Ernestine Lonie Ernesta Robert-Mrignac</td>\n",
       "      <td>F</td>\n",
       "      <td>74.0</td>\n",
       "      <td>NaN</td>\n",
       "      <td>NaN</td>\n",
       "      <td>France</td>\n",
       "      <td>FRA</td>\n",
       "      <td>1924 Summer</td>\n",
       "      <td>1924</td>\n",
       "      <td>Summer</td>\n",
       "      <td>Paris</td>\n",
       "      <td>Art Competitions</td>\n",
       "      <td>Art Competitions Mixed Sculpturing</td>\n",
       "      <td>NaN</td>\n",
       "    </tr>\n",
       "  </tbody>\n",
       "</table>\n",
       "</div>"
      ],
      "text/plain": [
       "            ID                                    Name Sex   Age  Height  \\\n",
       "201631  101272  Ernestine Lonie Ernesta Robert-Mrignac   F  74.0     NaN   \n",
       "\n",
       "        Weight    Team  NOC        Games  Year  Season   City  \\\n",
       "201631     NaN  France  FRA  1924 Summer  1924  Summer  Paris   \n",
       "\n",
       "                   Sport                               Event Medal  \n",
       "201631  Art Competitions  Art Competitions Mixed Sculpturing   NaN  "
      ]
     },
     "execution_count": 5,
     "metadata": {},
     "output_type": "execute_result"
    }
   ],
   "source": [
    "a2 = data.sort_values(by=['Sex', 'Age'], ascending=[True, False])\n",
    "a2.head(1)"
   ]
  },
  {
   "cell_type": "code",
   "execution_count": 6,
   "metadata": {},
   "outputs": [
    {
     "data": {
      "text/plain": [
       "74.0"
      ]
     },
     "execution_count": 6,
     "metadata": {},
     "output_type": "execute_result"
    }
   ],
   "source": [
    "a2['Age'][201631]"
   ]
  },
  {
   "cell_type": "code",
   "execution_count": 7,
   "metadata": {},
   "outputs": [],
   "source": [
    "# ANSWER: Male - 97 and Female - 74"
   ]
  },
  {
   "cell_type": "markdown",
   "metadata": {
    "id": "7-OBfiv6saoL"
   },
   "source": [
    "__2. What are the mean and standard deviation of height for male basketball players who participated in the 1992 Olympics? Round the answer to the first decimal.__"
   ]
  },
  {
   "cell_type": "code",
   "execution_count": 8,
   "metadata": {
    "id": "rX-8IY8TsaoM"
   },
   "outputs": [],
   "source": [
    "import statistics as st"
   ]
  },
  {
   "cell_type": "code",
   "execution_count": 10,
   "metadata": {},
   "outputs": [
    {
     "data": {
      "text/html": [
       "<div>\n",
       "<style scoped>\n",
       "    .dataframe tbody tr th:only-of-type {\n",
       "        vertical-align: middle;\n",
       "    }\n",
       "\n",
       "    .dataframe tbody tr th {\n",
       "        vertical-align: top;\n",
       "    }\n",
       "\n",
       "    .dataframe thead th {\n",
       "        text-align: right;\n",
       "    }\n",
       "</style>\n",
       "<table border=\"1\" class=\"dataframe\">\n",
       "  <thead>\n",
       "    <tr style=\"text-align: right;\">\n",
       "      <th></th>\n",
       "      <th>ID</th>\n",
       "      <th>Name</th>\n",
       "      <th>Sex</th>\n",
       "      <th>Age</th>\n",
       "      <th>Height</th>\n",
       "      <th>Weight</th>\n",
       "      <th>Team</th>\n",
       "      <th>NOC</th>\n",
       "      <th>Games</th>\n",
       "      <th>Year</th>\n",
       "      <th>Season</th>\n",
       "      <th>City</th>\n",
       "      <th>Sport</th>\n",
       "      <th>Event</th>\n",
       "      <th>Medal</th>\n",
       "    </tr>\n",
       "  </thead>\n",
       "  <tbody>\n",
       "    <tr>\n",
       "      <th>0</th>\n",
       "      <td>1</td>\n",
       "      <td>A Dijiang</td>\n",
       "      <td>M</td>\n",
       "      <td>24.0</td>\n",
       "      <td>180.0</td>\n",
       "      <td>80.0</td>\n",
       "      <td>China</td>\n",
       "      <td>CHN</td>\n",
       "      <td>1992 Summer</td>\n",
       "      <td>1992</td>\n",
       "      <td>Summer</td>\n",
       "      <td>Barcelona</td>\n",
       "      <td>Basketball</td>\n",
       "      <td>Basketball Men's Basketball</td>\n",
       "      <td>NaN</td>\n",
       "    </tr>\n",
       "    <tr>\n",
       "      <th>10</th>\n",
       "      <td>6</td>\n",
       "      <td>Per Knut Aaland</td>\n",
       "      <td>M</td>\n",
       "      <td>31.0</td>\n",
       "      <td>188.0</td>\n",
       "      <td>75.0</td>\n",
       "      <td>United States</td>\n",
       "      <td>USA</td>\n",
       "      <td>1992 Winter</td>\n",
       "      <td>1992</td>\n",
       "      <td>Winter</td>\n",
       "      <td>Albertville</td>\n",
       "      <td>Cross Country Skiing</td>\n",
       "      <td>Cross Country Skiing Men's 10 kilometres</td>\n",
       "      <td>NaN</td>\n",
       "    </tr>\n",
       "    <tr>\n",
       "      <th>11</th>\n",
       "      <td>6</td>\n",
       "      <td>Per Knut Aaland</td>\n",
       "      <td>M</td>\n",
       "      <td>31.0</td>\n",
       "      <td>188.0</td>\n",
       "      <td>75.0</td>\n",
       "      <td>United States</td>\n",
       "      <td>USA</td>\n",
       "      <td>1992 Winter</td>\n",
       "      <td>1992</td>\n",
       "      <td>Winter</td>\n",
       "      <td>Albertville</td>\n",
       "      <td>Cross Country Skiing</td>\n",
       "      <td>Cross Country Skiing Men's 50 kilometres</td>\n",
       "      <td>NaN</td>\n",
       "    </tr>\n",
       "    <tr>\n",
       "      <th>12</th>\n",
       "      <td>6</td>\n",
       "      <td>Per Knut Aaland</td>\n",
       "      <td>M</td>\n",
       "      <td>31.0</td>\n",
       "      <td>188.0</td>\n",
       "      <td>75.0</td>\n",
       "      <td>United States</td>\n",
       "      <td>USA</td>\n",
       "      <td>1992 Winter</td>\n",
       "      <td>1992</td>\n",
       "      <td>Winter</td>\n",
       "      <td>Albertville</td>\n",
       "      <td>Cross Country Skiing</td>\n",
       "      <td>Cross Country Skiing Men's 10/15 kilometres Pu...</td>\n",
       "      <td>NaN</td>\n",
       "    </tr>\n",
       "    <tr>\n",
       "      <th>13</th>\n",
       "      <td>6</td>\n",
       "      <td>Per Knut Aaland</td>\n",
       "      <td>M</td>\n",
       "      <td>31.0</td>\n",
       "      <td>188.0</td>\n",
       "      <td>75.0</td>\n",
       "      <td>United States</td>\n",
       "      <td>USA</td>\n",
       "      <td>1992 Winter</td>\n",
       "      <td>1992</td>\n",
       "      <td>Winter</td>\n",
       "      <td>Albertville</td>\n",
       "      <td>Cross Country Skiing</td>\n",
       "      <td>Cross Country Skiing Men's 4 x 10 kilometres R...</td>\n",
       "      <td>NaN</td>\n",
       "    </tr>\n",
       "  </tbody>\n",
       "</table>\n",
       "</div>"
      ],
      "text/plain": [
       "    ID             Name Sex   Age  Height  Weight           Team  NOC  \\\n",
       "0    1        A Dijiang   M  24.0   180.0    80.0          China  CHN   \n",
       "10   6  Per Knut Aaland   M  31.0   188.0    75.0  United States  USA   \n",
       "11   6  Per Knut Aaland   M  31.0   188.0    75.0  United States  USA   \n",
       "12   6  Per Knut Aaland   M  31.0   188.0    75.0  United States  USA   \n",
       "13   6  Per Knut Aaland   M  31.0   188.0    75.0  United States  USA   \n",
       "\n",
       "          Games  Year  Season         City                 Sport  \\\n",
       "0   1992 Summer  1992  Summer    Barcelona            Basketball   \n",
       "10  1992 Winter  1992  Winter  Albertville  Cross Country Skiing   \n",
       "11  1992 Winter  1992  Winter  Albertville  Cross Country Skiing   \n",
       "12  1992 Winter  1992  Winter  Albertville  Cross Country Skiing   \n",
       "13  1992 Winter  1992  Winter  Albertville  Cross Country Skiing   \n",
       "\n",
       "                                                Event Medal  \n",
       "0                         Basketball Men's Basketball   NaN  \n",
       "10           Cross Country Skiing Men's 10 kilometres   NaN  \n",
       "11           Cross Country Skiing Men's 50 kilometres   NaN  \n",
       "12  Cross Country Skiing Men's 10/15 kilometres Pu...   NaN  \n",
       "13  Cross Country Skiing Men's 4 x 10 kilometres R...   NaN  "
      ]
     },
     "execution_count": 10,
     "metadata": {},
     "output_type": "execute_result"
    }
   ],
   "source": [
    "df = data.groupby(['Year'])\n",
    "df2 = df.get_group(1992)\n",
    "df3 = df2.groupby(['Sex'])\n",
    "df4 = df3.get_group('M')\n",
    "df4.head()"
   ]
  },
  {
   "cell_type": "code",
   "execution_count": 11,
   "metadata": {},
   "outputs": [],
   "source": [
    "height_list = []\n",
    "for i in df4['Height']:\n",
    "    if i > 1:\n",
    "        height_list.append(i)"
   ]
  },
  {
   "cell_type": "code",
   "execution_count": 12,
   "metadata": {},
   "outputs": [
    {
     "data": {
      "text/plain": [
       "179.7"
      ]
     },
     "execution_count": 12,
     "metadata": {},
     "output_type": "execute_result"
    }
   ],
   "source": [
    "round(st.mean(height_list), 1)"
   ]
  },
  {
   "cell_type": "code",
   "execution_count": 13,
   "metadata": {},
   "outputs": [
    {
     "data": {
      "text/plain": [
       "9.5"
      ]
     },
     "execution_count": 13,
     "metadata": {},
     "output_type": "execute_result"
    }
   ],
   "source": [
    "round(st.stdev(height_list), 1)"
   ]
  },
  {
   "cell_type": "code",
   "execution_count": 14,
   "metadata": {},
   "outputs": [],
   "source": [
    "# ANSWER: Mean: 179.7 and Standard devision: 9.5"
   ]
  },
  {
   "cell_type": "markdown",
   "metadata": {
    "id": "wNa3nI_gsaoN"
   },
   "source": [
    "__3. How many times did Christine Jacoba Aaftink participate in the Olympics held in different years?__"
   ]
  },
  {
   "cell_type": "code",
   "execution_count": 15,
   "metadata": {
    "id": "tR24h2udsaoO"
   },
   "outputs": [
    {
     "data": {
      "text/plain": [
       "1988    2\n",
       "1994    2\n",
       "1992    2\n",
       "Name: Year, dtype: int64"
      ]
     },
     "execution_count": 15,
     "metadata": {},
     "output_type": "execute_result"
    }
   ],
   "source": [
    "s1 = data.groupby(['Name'])\n",
    "s2 = s1.get_group('Christine Jacoba Aaftink')\n",
    "s2['Year'].value_counts()"
   ]
  },
  {
   "cell_type": "code",
   "execution_count": 27,
   "metadata": {},
   "outputs": [],
   "source": [
    "#ANSWER: 1988-2 and 1994-2 and 1992-2"
   ]
  },
  {
   "cell_type": "markdown",
   "metadata": {
    "id": "osWRGJK3saoP"
   },
   "source": [
    "__4. Is it true that China won fewer medals than Russia at the 2012 Olympics? Do not consider NaN values in Medal column.__"
   ]
  },
  {
   "cell_type": "code",
   "execution_count": 29,
   "metadata": {
    "id": "FyapN3MosaoQ"
   },
   "outputs": [
    {
     "data": {
      "text/plain": [
       "Bronze    393\n",
       "Gold      366\n",
       "Silver    351\n",
       "Name: Medal, dtype: int64"
      ]
     },
     "execution_count": 29,
     "metadata": {},
     "output_type": "execute_result"
    }
   ],
   "source": [
    "rf = data.groupby(['Team'])\n",
    "rf2 = rf.get_group(\"Russia\")\n",
    "rf2['Medal'].value_counts()"
   ]
  },
  {
   "cell_type": "code",
   "execution_count": 30,
   "metadata": {},
   "outputs": [
    {
     "data": {
      "text/plain": [
       "1110"
      ]
     },
     "execution_count": 30,
     "metadata": {},
     "output_type": "execute_result"
    }
   ],
   "source": [
    "393+366+351"
   ]
  },
  {
   "cell_type": "code",
   "execution_count": 31,
   "metadata": {},
   "outputs": [
    {
     "data": {
      "text/plain": [
       "Silver    325\n",
       "Gold      308\n",
       "Bronze    268\n",
       "Name: Medal, dtype: int64"
      ]
     },
     "execution_count": 31,
     "metadata": {},
     "output_type": "execute_result"
    }
   ],
   "source": [
    "rf3 = rf.get_group(\"China\")\n",
    "rf3['Medal'].value_counts()"
   ]
  },
  {
   "cell_type": "code",
   "execution_count": 32,
   "metadata": {},
   "outputs": [
    {
     "data": {
      "text/plain": [
       "901"
      ]
     },
     "execution_count": 32,
     "metadata": {},
     "output_type": "execute_result"
    }
   ],
   "source": [
    "325+308+268"
   ]
  },
  {
   "cell_type": "code",
   "execution_count": 33,
   "metadata": {},
   "outputs": [],
   "source": [
    "#ANSWER: China-901 < Russia-1110"
   ]
  },
  {
   "cell_type": "markdown",
   "metadata": {
    "id": "j6hy_JkQsaoS"
   },
   "source": [
    "__5. What is the absolute difference between the number of unique sports at the 1986 Olympics and 2016 Olympics?__"
   ]
  },
  {
   "cell_type": "code",
   "execution_count": 5,
   "metadata": {
    "id": "v9ZXCGiQsaoT"
   },
   "outputs": [
    {
     "ename": "KeyError",
     "evalue": "1986",
     "output_type": "error",
     "traceback": [
      "\u001b[1;31m---------------------------------------------------------------------------\u001b[0m",
      "\u001b[1;31mKeyError\u001b[0m                                  Traceback (most recent call last)",
      "\u001b[1;32m<ipython-input-5-c296906d8156>\u001b[0m in \u001b[0;36m<module>\u001b[1;34m\u001b[0m\n\u001b[0;32m      1\u001b[0m \u001b[0mddf\u001b[0m \u001b[1;33m=\u001b[0m \u001b[0mdata\u001b[0m\u001b[1;33m.\u001b[0m\u001b[0mgroupby\u001b[0m\u001b[1;33m(\u001b[0m\u001b[1;33m[\u001b[0m\u001b[1;34m'Year'\u001b[0m\u001b[1;33m]\u001b[0m\u001b[1;33m)\u001b[0m\u001b[1;33m\u001b[0m\u001b[1;33m\u001b[0m\u001b[0m\n\u001b[1;32m----> 2\u001b[1;33m \u001b[0mddf\u001b[0m\u001b[1;33m.\u001b[0m\u001b[0mget_group\u001b[0m\u001b[1;33m(\u001b[0m\u001b[1;36m1986\u001b[0m\u001b[1;33m)\u001b[0m\u001b[1;33m\u001b[0m\u001b[1;33m\u001b[0m\u001b[0m\n\u001b[0m",
      "\u001b[1;32mc:\\users\\lenovo\\appdata\\local\\programs\\python\\python38-32\\lib\\site-packages\\pandas\\core\\groupby\\groupby.py\u001b[0m in \u001b[0;36mget_group\u001b[1;34m(self, name, obj)\u001b[0m\n\u001b[0;32m    808\u001b[0m         \u001b[0minds\u001b[0m \u001b[1;33m=\u001b[0m \u001b[0mself\u001b[0m\u001b[1;33m.\u001b[0m\u001b[0m_get_index\u001b[0m\u001b[1;33m(\u001b[0m\u001b[0mname\u001b[0m\u001b[1;33m)\u001b[0m\u001b[1;33m\u001b[0m\u001b[1;33m\u001b[0m\u001b[0m\n\u001b[0;32m    809\u001b[0m         \u001b[1;32mif\u001b[0m \u001b[1;32mnot\u001b[0m \u001b[0mlen\u001b[0m\u001b[1;33m(\u001b[0m\u001b[0minds\u001b[0m\u001b[1;33m)\u001b[0m\u001b[1;33m:\u001b[0m\u001b[1;33m\u001b[0m\u001b[1;33m\u001b[0m\u001b[0m\n\u001b[1;32m--> 810\u001b[1;33m             \u001b[1;32mraise\u001b[0m \u001b[0mKeyError\u001b[0m\u001b[1;33m(\u001b[0m\u001b[0mname\u001b[0m\u001b[1;33m)\u001b[0m\u001b[1;33m\u001b[0m\u001b[1;33m\u001b[0m\u001b[0m\n\u001b[0m\u001b[0;32m    811\u001b[0m \u001b[1;33m\u001b[0m\u001b[0m\n\u001b[0;32m    812\u001b[0m         \u001b[1;32mreturn\u001b[0m \u001b[0mobj\u001b[0m\u001b[1;33m.\u001b[0m\u001b[0m_take_with_is_copy\u001b[0m\u001b[1;33m(\u001b[0m\u001b[0minds\u001b[0m\u001b[1;33m,\u001b[0m \u001b[0maxis\u001b[0m\u001b[1;33m=\u001b[0m\u001b[0mself\u001b[0m\u001b[1;33m.\u001b[0m\u001b[0maxis\u001b[0m\u001b[1;33m)\u001b[0m\u001b[1;33m\u001b[0m\u001b[1;33m\u001b[0m\u001b[0m\n",
      "\u001b[1;31mKeyError\u001b[0m: 1986"
     ]
    }
   ],
   "source": [
    "ddf = data.groupby(['Year'])\n",
    "ddf.get_group(1986)"
   ]
  },
  {
   "cell_type": "code",
   "execution_count": 6,
   "metadata": {},
   "outputs": [
    {
     "data": {
      "text/html": [
       "<div>\n",
       "<style scoped>\n",
       "    .dataframe tbody tr th:only-of-type {\n",
       "        vertical-align: middle;\n",
       "    }\n",
       "\n",
       "    .dataframe tbody tr th {\n",
       "        vertical-align: top;\n",
       "    }\n",
       "\n",
       "    .dataframe thead th {\n",
       "        text-align: right;\n",
       "    }\n",
       "</style>\n",
       "<table border=\"1\" class=\"dataframe\">\n",
       "  <thead>\n",
       "    <tr style=\"text-align: right;\">\n",
       "      <th></th>\n",
       "      <th>ID</th>\n",
       "      <th>Name</th>\n",
       "      <th>Sex</th>\n",
       "      <th>Age</th>\n",
       "      <th>Height</th>\n",
       "      <th>Weight</th>\n",
       "      <th>Team</th>\n",
       "      <th>NOC</th>\n",
       "      <th>Games</th>\n",
       "      <th>Year</th>\n",
       "      <th>Season</th>\n",
       "      <th>City</th>\n",
       "      <th>Sport</th>\n",
       "      <th>Event</th>\n",
       "      <th>Medal</th>\n",
       "    </tr>\n",
       "  </thead>\n",
       "  <tbody>\n",
       "    <tr>\n",
       "      <th>80</th>\n",
       "      <td>22</td>\n",
       "      <td>Andreea Aanei</td>\n",
       "      <td>F</td>\n",
       "      <td>22.0</td>\n",
       "      <td>170.0</td>\n",
       "      <td>125.0</td>\n",
       "      <td>Romania</td>\n",
       "      <td>ROU</td>\n",
       "      <td>2016 Summer</td>\n",
       "      <td>2016</td>\n",
       "      <td>Summer</td>\n",
       "      <td>Rio de Janeiro</td>\n",
       "      <td>Weightlifting</td>\n",
       "      <td>Weightlifting Women's Super-Heavyweight</td>\n",
       "      <td>NaN</td>\n",
       "    </tr>\n",
       "    <tr>\n",
       "      <th>139</th>\n",
       "      <td>51</td>\n",
       "      <td>Nstor Abad Sanjun</td>\n",
       "      <td>M</td>\n",
       "      <td>23.0</td>\n",
       "      <td>167.0</td>\n",
       "      <td>64.0</td>\n",
       "      <td>Spain</td>\n",
       "      <td>ESP</td>\n",
       "      <td>2016 Summer</td>\n",
       "      <td>2016</td>\n",
       "      <td>Summer</td>\n",
       "      <td>Rio de Janeiro</td>\n",
       "      <td>Gymnastics</td>\n",
       "      <td>Gymnastics Men's Individual All-Around</td>\n",
       "      <td>NaN</td>\n",
       "    </tr>\n",
       "    <tr>\n",
       "      <th>140</th>\n",
       "      <td>51</td>\n",
       "      <td>Nstor Abad Sanjun</td>\n",
       "      <td>M</td>\n",
       "      <td>23.0</td>\n",
       "      <td>167.0</td>\n",
       "      <td>64.0</td>\n",
       "      <td>Spain</td>\n",
       "      <td>ESP</td>\n",
       "      <td>2016 Summer</td>\n",
       "      <td>2016</td>\n",
       "      <td>Summer</td>\n",
       "      <td>Rio de Janeiro</td>\n",
       "      <td>Gymnastics</td>\n",
       "      <td>Gymnastics Men's Floor Exercise</td>\n",
       "      <td>NaN</td>\n",
       "    </tr>\n",
       "    <tr>\n",
       "      <th>141</th>\n",
       "      <td>51</td>\n",
       "      <td>Nstor Abad Sanjun</td>\n",
       "      <td>M</td>\n",
       "      <td>23.0</td>\n",
       "      <td>167.0</td>\n",
       "      <td>64.0</td>\n",
       "      <td>Spain</td>\n",
       "      <td>ESP</td>\n",
       "      <td>2016 Summer</td>\n",
       "      <td>2016</td>\n",
       "      <td>Summer</td>\n",
       "      <td>Rio de Janeiro</td>\n",
       "      <td>Gymnastics</td>\n",
       "      <td>Gymnastics Men's Parallel Bars</td>\n",
       "      <td>NaN</td>\n",
       "    </tr>\n",
       "    <tr>\n",
       "      <th>142</th>\n",
       "      <td>51</td>\n",
       "      <td>Nstor Abad Sanjun</td>\n",
       "      <td>M</td>\n",
       "      <td>23.0</td>\n",
       "      <td>167.0</td>\n",
       "      <td>64.0</td>\n",
       "      <td>Spain</td>\n",
       "      <td>ESP</td>\n",
       "      <td>2016 Summer</td>\n",
       "      <td>2016</td>\n",
       "      <td>Summer</td>\n",
       "      <td>Rio de Janeiro</td>\n",
       "      <td>Gymnastics</td>\n",
       "      <td>Gymnastics Men's Horizontal Bar</td>\n",
       "      <td>NaN</td>\n",
       "    </tr>\n",
       "    <tr>\n",
       "      <th>...</th>\n",
       "      <td>...</td>\n",
       "      <td>...</td>\n",
       "      <td>...</td>\n",
       "      <td>...</td>\n",
       "      <td>...</td>\n",
       "      <td>...</td>\n",
       "      <td>...</td>\n",
       "      <td>...</td>\n",
       "      <td>...</td>\n",
       "      <td>...</td>\n",
       "      <td>...</td>\n",
       "      <td>...</td>\n",
       "      <td>...</td>\n",
       "      <td>...</td>\n",
       "      <td>...</td>\n",
       "    </tr>\n",
       "    <tr>\n",
       "      <th>271024</th>\n",
       "      <td>135528</td>\n",
       "      <td>Marc Zwiebler</td>\n",
       "      <td>M</td>\n",
       "      <td>32.0</td>\n",
       "      <td>181.0</td>\n",
       "      <td>75.0</td>\n",
       "      <td>Germany</td>\n",
       "      <td>GER</td>\n",
       "      <td>2016 Summer</td>\n",
       "      <td>2016</td>\n",
       "      <td>Summer</td>\n",
       "      <td>Rio de Janeiro</td>\n",
       "      <td>Badminton</td>\n",
       "      <td>Badminton Men's Singles</td>\n",
       "      <td>NaN</td>\n",
       "    </tr>\n",
       "    <tr>\n",
       "      <th>271053</th>\n",
       "      <td>135547</td>\n",
       "      <td>Viktoriya Viktorovna Zyabkina</td>\n",
       "      <td>F</td>\n",
       "      <td>23.0</td>\n",
       "      <td>174.0</td>\n",
       "      <td>62.0</td>\n",
       "      <td>Kazakhstan</td>\n",
       "      <td>KAZ</td>\n",
       "      <td>2016 Summer</td>\n",
       "      <td>2016</td>\n",
       "      <td>Summer</td>\n",
       "      <td>Rio de Janeiro</td>\n",
       "      <td>Athletics</td>\n",
       "      <td>Athletics Women's 100 metres</td>\n",
       "      <td>NaN</td>\n",
       "    </tr>\n",
       "    <tr>\n",
       "      <th>271054</th>\n",
       "      <td>135547</td>\n",
       "      <td>Viktoriya Viktorovna Zyabkina</td>\n",
       "      <td>F</td>\n",
       "      <td>23.0</td>\n",
       "      <td>174.0</td>\n",
       "      <td>62.0</td>\n",
       "      <td>Kazakhstan</td>\n",
       "      <td>KAZ</td>\n",
       "      <td>2016 Summer</td>\n",
       "      <td>2016</td>\n",
       "      <td>Summer</td>\n",
       "      <td>Rio de Janeiro</td>\n",
       "      <td>Athletics</td>\n",
       "      <td>Athletics Women's 200 metres</td>\n",
       "      <td>NaN</td>\n",
       "    </tr>\n",
       "    <tr>\n",
       "      <th>271055</th>\n",
       "      <td>135547</td>\n",
       "      <td>Viktoriya Viktorovna Zyabkina</td>\n",
       "      <td>F</td>\n",
       "      <td>23.0</td>\n",
       "      <td>174.0</td>\n",
       "      <td>62.0</td>\n",
       "      <td>Kazakhstan</td>\n",
       "      <td>KAZ</td>\n",
       "      <td>2016 Summer</td>\n",
       "      <td>2016</td>\n",
       "      <td>Summer</td>\n",
       "      <td>Rio de Janeiro</td>\n",
       "      <td>Athletics</td>\n",
       "      <td>Athletics Women's 4 x 100 metres Relay</td>\n",
       "      <td>NaN</td>\n",
       "    </tr>\n",
       "    <tr>\n",
       "      <th>271110</th>\n",
       "      <td>135568</td>\n",
       "      <td>Olga Igorevna Zyuzkova</td>\n",
       "      <td>F</td>\n",
       "      <td>33.0</td>\n",
       "      <td>171.0</td>\n",
       "      <td>69.0</td>\n",
       "      <td>Belarus</td>\n",
       "      <td>BLR</td>\n",
       "      <td>2016 Summer</td>\n",
       "      <td>2016</td>\n",
       "      <td>Summer</td>\n",
       "      <td>Rio de Janeiro</td>\n",
       "      <td>Basketball</td>\n",
       "      <td>Basketball Women's Basketball</td>\n",
       "      <td>NaN</td>\n",
       "    </tr>\n",
       "  </tbody>\n",
       "</table>\n",
       "<p>13688 rows × 15 columns</p>\n",
       "</div>"
      ],
      "text/plain": [
       "            ID                           Name Sex   Age  Height  Weight  \\\n",
       "80          22                  Andreea Aanei   F  22.0   170.0   125.0   \n",
       "139         51              Nstor Abad Sanjun   M  23.0   167.0    64.0   \n",
       "140         51              Nstor Abad Sanjun   M  23.0   167.0    64.0   \n",
       "141         51              Nstor Abad Sanjun   M  23.0   167.0    64.0   \n",
       "142         51              Nstor Abad Sanjun   M  23.0   167.0    64.0   \n",
       "...        ...                            ...  ..   ...     ...     ...   \n",
       "271024  135528                  Marc Zwiebler   M  32.0   181.0    75.0   \n",
       "271053  135547  Viktoriya Viktorovna Zyabkina   F  23.0   174.0    62.0   \n",
       "271054  135547  Viktoriya Viktorovna Zyabkina   F  23.0   174.0    62.0   \n",
       "271055  135547  Viktoriya Viktorovna Zyabkina   F  23.0   174.0    62.0   \n",
       "271110  135568         Olga Igorevna Zyuzkova   F  33.0   171.0    69.0   \n",
       "\n",
       "              Team  NOC        Games  Year  Season            City  \\\n",
       "80         Romania  ROU  2016 Summer  2016  Summer  Rio de Janeiro   \n",
       "139          Spain  ESP  2016 Summer  2016  Summer  Rio de Janeiro   \n",
       "140          Spain  ESP  2016 Summer  2016  Summer  Rio de Janeiro   \n",
       "141          Spain  ESP  2016 Summer  2016  Summer  Rio de Janeiro   \n",
       "142          Spain  ESP  2016 Summer  2016  Summer  Rio de Janeiro   \n",
       "...            ...  ...          ...   ...     ...             ...   \n",
       "271024     Germany  GER  2016 Summer  2016  Summer  Rio de Janeiro   \n",
       "271053  Kazakhstan  KAZ  2016 Summer  2016  Summer  Rio de Janeiro   \n",
       "271054  Kazakhstan  KAZ  2016 Summer  2016  Summer  Rio de Janeiro   \n",
       "271055  Kazakhstan  KAZ  2016 Summer  2016  Summer  Rio de Janeiro   \n",
       "271110     Belarus  BLR  2016 Summer  2016  Summer  Rio de Janeiro   \n",
       "\n",
       "                Sport                                    Event Medal  \n",
       "80      Weightlifting  Weightlifting Women's Super-Heavyweight   NaN  \n",
       "139        Gymnastics   Gymnastics Men's Individual All-Around   NaN  \n",
       "140        Gymnastics          Gymnastics Men's Floor Exercise   NaN  \n",
       "141        Gymnastics           Gymnastics Men's Parallel Bars   NaN  \n",
       "142        Gymnastics          Gymnastics Men's Horizontal Bar   NaN  \n",
       "...               ...                                      ...   ...  \n",
       "271024      Badminton                  Badminton Men's Singles   NaN  \n",
       "271053      Athletics             Athletics Women's 100 metres   NaN  \n",
       "271054      Athletics             Athletics Women's 200 metres   NaN  \n",
       "271055      Athletics   Athletics Women's 4 x 100 metres Relay   NaN  \n",
       "271110     Basketball            Basketball Women's Basketball   NaN  \n",
       "\n",
       "[13688 rows x 15 columns]"
      ]
     },
     "execution_count": 6,
     "metadata": {},
     "output_type": "execute_result"
    }
   ],
   "source": [
    "ddf2 = data.groupby(['Year'])\n",
    "ddf2.get_group(2016)"
   ]
  },
  {
   "cell_type": "markdown",
   "metadata": {
    "id": "_upsfeAMsaoU"
   },
   "source": [
    "# Part 2"
   ]
  },
  {
   "cell_type": "markdown",
   "metadata": {
    "id": "XuzBbnsrsaoU"
   },
   "source": [
    "**In part 2 you need to work with numpy library. Write code and perform computations in the cells below. There are five questions.** "
   ]
  },
  {
   "cell_type": "code",
   "execution_count": 16,
   "metadata": {
    "id": "c0_L9VqRsaoV"
   },
   "outputs": [],
   "source": [
    "import numpy as np"
   ]
  },
  {
   "cell_type": "markdown",
   "metadata": {
    "id": "BoqefCltsaoW"
   },
   "source": [
    "__6. Create a 5x5 matrix with row values ranging from 0 to 4__"
   ]
  },
  {
   "cell_type": "code",
   "execution_count": 17,
   "metadata": {
    "id": "wybhPohhsaoX"
   },
   "outputs": [
    {
     "data": {
      "text/plain": [
       "array([[0., 1., 2., 3., 4.],\n",
       "       [0., 1., 2., 3., 4.],\n",
       "       [0., 1., 2., 3., 4.],\n",
       "       [0., 1., 2., 3., 4.],\n",
       "       [0., 1., 2., 3., 4.]])"
      ]
     },
     "execution_count": 17,
     "metadata": {},
     "output_type": "execute_result"
    }
   ],
   "source": [
    "arr1 = np.zeros((5,5))\n",
    "arr1 += np.arange(5)\n",
    "arr1"
   ]
  },
  {
   "cell_type": "markdown",
   "metadata": {
    "id": "NiyicmE6saoY"
   },
   "source": [
    "__7. Create a random vector of size 10 and sort it__"
   ]
  },
  {
   "cell_type": "code",
   "execution_count": 6,
   "metadata": {
    "id": "OdYST1BCsaoZ"
   },
   "outputs": [
    {
     "data": {
      "text/plain": [
       "array([-1.3368572 , -0.8715282 , -0.49422448, -0.29121159,  0.20938792,\n",
       "        0.39083912,  1.25348259,  1.32506802,  1.43688479,  1.69776893])"
      ]
     },
     "execution_count": 6,
     "metadata": {},
     "output_type": "execute_result"
    }
   ],
   "source": [
    "arr2 = np.random.randn(10)\n",
    "arr2.sort()\n",
    "arr2"
   ]
  },
  {
   "cell_type": "markdown",
   "metadata": {
    "id": "ClRcvQimsaoZ"
   },
   "source": [
    "__8. Create a structured array with x and y coordinates covering the [0,1]x[0,1] area__"
   ]
  },
  {
   "cell_type": "code",
   "execution_count": 4,
   "metadata": {
    "id": "8PAxkPq7saoa"
   },
   "outputs": [
    {
     "name": "stdout",
     "output_type": "stream",
     "text": [
      "[[(0.        , 0.        ) (0.11111111, 0.        )\n",
      "  (0.22222222, 0.        ) (0.33333333, 0.        )\n",
      "  (0.44444444, 0.        ) (0.55555556, 0.        )\n",
      "  (0.66666667, 0.        ) (0.77777778, 0.        )\n",
      "  (0.88888889, 0.        ) (1.        , 0.        )]\n",
      " [(0.        , 0.11111111) (0.11111111, 0.11111111)\n",
      "  (0.22222222, 0.11111111) (0.33333333, 0.11111111)\n",
      "  (0.44444444, 0.11111111) (0.55555556, 0.11111111)\n",
      "  (0.66666667, 0.11111111) (0.77777778, 0.11111111)\n",
      "  (0.88888889, 0.11111111) (1.        , 0.11111111)]\n",
      " [(0.        , 0.22222222) (0.11111111, 0.22222222)\n",
      "  (0.22222222, 0.22222222) (0.33333333, 0.22222222)\n",
      "  (0.44444444, 0.22222222) (0.55555556, 0.22222222)\n",
      "  (0.66666667, 0.22222222) (0.77777778, 0.22222222)\n",
      "  (0.88888889, 0.22222222) (1.        , 0.22222222)]\n",
      " [(0.        , 0.33333333) (0.11111111, 0.33333333)\n",
      "  (0.22222222, 0.33333333) (0.33333333, 0.33333333)\n",
      "  (0.44444444, 0.33333333) (0.55555556, 0.33333333)\n",
      "  (0.66666667, 0.33333333) (0.77777778, 0.33333333)\n",
      "  (0.88888889, 0.33333333) (1.        , 0.33333333)]\n",
      " [(0.        , 0.44444444) (0.11111111, 0.44444444)\n",
      "  (0.22222222, 0.44444444) (0.33333333, 0.44444444)\n",
      "  (0.44444444, 0.44444444) (0.55555556, 0.44444444)\n",
      "  (0.66666667, 0.44444444) (0.77777778, 0.44444444)\n",
      "  (0.88888889, 0.44444444) (1.        , 0.44444444)]\n",
      " [(0.        , 0.55555556) (0.11111111, 0.55555556)\n",
      "  (0.22222222, 0.55555556) (0.33333333, 0.55555556)\n",
      "  (0.44444444, 0.55555556) (0.55555556, 0.55555556)\n",
      "  (0.66666667, 0.55555556) (0.77777778, 0.55555556)\n",
      "  (0.88888889, 0.55555556) (1.        , 0.55555556)]\n",
      " [(0.        , 0.66666667) (0.11111111, 0.66666667)\n",
      "  (0.22222222, 0.66666667) (0.33333333, 0.66666667)\n",
      "  (0.44444444, 0.66666667) (0.55555556, 0.66666667)\n",
      "  (0.66666667, 0.66666667) (0.77777778, 0.66666667)\n",
      "  (0.88888889, 0.66666667) (1.        , 0.66666667)]\n",
      " [(0.        , 0.77777778) (0.11111111, 0.77777778)\n",
      "  (0.22222222, 0.77777778) (0.33333333, 0.77777778)\n",
      "  (0.44444444, 0.77777778) (0.55555556, 0.77777778)\n",
      "  (0.66666667, 0.77777778) (0.77777778, 0.77777778)\n",
      "  (0.88888889, 0.77777778) (1.        , 0.77777778)]\n",
      " [(0.        , 0.88888889) (0.11111111, 0.88888889)\n",
      "  (0.22222222, 0.88888889) (0.33333333, 0.88888889)\n",
      "  (0.44444444, 0.88888889) (0.55555556, 0.88888889)\n",
      "  (0.66666667, 0.88888889) (0.77777778, 0.88888889)\n",
      "  (0.88888889, 0.88888889) (1.        , 0.88888889)]\n",
      " [(0.        , 1.        ) (0.11111111, 1.        )\n",
      "  (0.22222222, 1.        ) (0.33333333, 1.        )\n",
      "  (0.44444444, 1.        ) (0.55555556, 1.        )\n",
      "  (0.66666667, 1.        ) (0.77777778, 1.        )\n",
      "  (0.88888889, 1.        ) (1.        , 1.        )]]\n"
     ]
    }
   ],
   "source": [
    "arr3 = np.zeros((10, 10), [('x',float),('y',float)])\n",
    "arr3['x'], arr3['y'] = np.meshgrid(np.linspace(0,1,10), np.linspace(0,1,10))\n",
    "print(arr3)"
   ]
  },
  {
   "cell_type": "markdown",
   "metadata": {
    "id": "WBHFDRxOsaob"
   },
   "source": [
    "__9. Consider two random array A and B, check if they are equal__"
   ]
  },
  {
   "cell_type": "code",
   "execution_count": 7,
   "metadata": {
    "id": "l2IfJt0psaod"
   },
   "outputs": [
    {
     "name": "stdout",
     "output_type": "stream",
     "text": [
      "[1 1 1 1 0 0 1 0 0 1]\n",
      "[0 0 1 1 0 0 0 1 1 0]\n"
     ]
    },
    {
     "data": {
      "text/plain": [
       "array([False, False,  True,  True,  True,  True, False, False, False,\n",
       "       False])"
      ]
     },
     "execution_count": 7,
     "metadata": {},
     "output_type": "execute_result"
    }
   ],
   "source": [
    "arr4 = np.random.randint(0,2,10)\n",
    "print(arr4)\n",
    "arr5 = np.random.randint(0,2,10)\n",
    "print(arr5)\n",
    "arr4 == arr5"
   ]
  },
  {
   "cell_type": "markdown",
   "metadata": {
    "id": "TgvLxwslsaof"
   },
   "source": [
    "__10. Create a random matrix and swap two rows of an array?__"
   ]
  },
  {
   "cell_type": "code",
   "execution_count": 8,
   "metadata": {
    "id": "TI_XR0HGsaog"
   },
   "outputs": [
    {
     "name": "stdout",
     "output_type": "stream",
     "text": [
      "[[2 6 3 2 8]\n",
      " [8 9 6 3 3]\n",
      " [9 7 7 7 4]\n",
      " [7 9 5 7 3]\n",
      " [9 5 2 7 2]]\n"
     ]
    },
    {
     "data": {
      "text/plain": [
       "array([[2, 6, 3, 2, 8],\n",
       "       [8, 9, 6, 3, 3],\n",
       "       [9, 5, 2, 7, 2],\n",
       "       [7, 9, 5, 7, 3],\n",
       "       [9, 7, 7, 7, 4]])"
      ]
     },
     "execution_count": 8,
     "metadata": {},
     "output_type": "execute_result"
    }
   ],
   "source": [
    "arr6 = np.random.randint(10, size=(5,5))\n",
    "print(arr6)\n",
    "arr6[[2, 4]] = arr6[[4,2]]\n",
    "arr6"
   ]
  }
 ],
 "metadata": {
  "colab": {
   "name": "Assignment 2.ipynb",
   "provenance": []
  },
  "kernelspec": {
   "display_name": "Python 3",
   "language": "python",
   "name": "python3"
  },
  "language_info": {
   "codemirror_mode": {
    "name": "ipython",
    "version": 3
   },
   "file_extension": ".py",
   "mimetype": "text/x-python",
   "name": "python",
   "nbconvert_exporter": "python",
   "pygments_lexer": "ipython3",
   "version": "3.8.1"
  }
 },
 "nbformat": 4,
 "nbformat_minor": 1
}
